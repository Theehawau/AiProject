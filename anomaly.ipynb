{
 "cells": [
  {
   "cell_type": "code",
   "execution_count": 1,
   "metadata": {},
   "outputs": [
    {
     "name": "stderr",
     "output_type": "stream",
     "text": [
      "/home/toluwani/anaconda3/envs/hawau/lib/python3.7/site-packages/tqdm/auto.py:22: TqdmWarning: IProgress not found. Please update jupyter and ipywidgets. See https://ipywidgets.readthedocs.io/en/stable/user_install.html\n",
      "  from .autonotebook import tqdm as notebook_tqdm\n"
     ]
    }
   ],
   "source": [
    "import torch\n",
    "import clip\n",
    "from PIL import Image\n",
    "import argparse\n",
    "import os\n",
    "from torchvision import datasets, transforms\n",
    "import numpy as np\n",
    "import sys\n",
    "from scipy import linalg\n",
    "from tqdm import tqdm\n",
    "from torch.distributions.normal import Normal\n",
    "from scipy.stats import multivariate_normal\n",
    "import shutil\n",
    "import matplotlib.pyplot as plt"
   ]
  },
  {
   "cell_type": "code",
   "execution_count": 7,
   "metadata": {},
   "outputs": [],
   "source": [
    "import glob\n",
    "from sklearn.ensemble import IsolationForest\n",
    "from sklearn.metrics import accuracy_score\n",
    "from sklearn.neighbors import LocalOutlierFactor"
   ]
  },
  {
   "cell_type": "code",
   "execution_count": 2,
   "metadata": {},
   "outputs": [],
   "source": [
    "device = \"cuda\" if torch.cuda.is_available() else \"cpu\""
   ]
  },
  {
   "cell_type": "markdown",
   "metadata": {},
   "source": [
    "### Get all categories"
   ]
  },
  {
   "cell_type": "code",
   "execution_count": 3,
   "metadata": {},
   "outputs": [],
   "source": [
    "categories = os.listdir('/home/toluwani/Documents/Hawau/Anomaly/data/')\n",
    "categories.remove('license.txt')\n",
    "categories.remove('readme.txt')"
   ]
  },
  {
   "cell_type": "code",
   "execution_count": 5,
   "metadata": {},
   "outputs": [
    {
     "data": {
      "text/plain": [
       "['capsule',\n",
       " 'leather',\n",
       " 'tile',\n",
       " 'zipper',\n",
       " 'toothbrush',\n",
       " 'screw',\n",
       " 'hazelnut',\n",
       " 'wood',\n",
       " 'carpet',\n",
       " 'metal_nut',\n",
       " 'transistor',\n",
       " 'bottle',\n",
       " 'grid',\n",
       " 'pill',\n",
       " 'cable']"
      ]
     },
     "execution_count": 5,
     "metadata": {},
     "output_type": "execute_result"
    }
   ],
   "source": [
    "categories"
   ]
  },
  {
   "cell_type": "code",
   "execution_count": 4,
   "metadata": {},
   "outputs": [],
   "source": [
    "data = '/home/toluwani/Documents/Hawau/Anomaly/data/'"
   ]
  },
  {
   "cell_type": "code",
   "execution_count": 9,
   "metadata": {},
   "outputs": [
    {
     "name": "stderr",
     "output_type": "stream",
     "text": [
      "/usr/bin/nvidia-modprobe: unrecognized option: \"-s\"\n",
      "\n",
      "ERROR: Invalid commandline, please run `/usr/bin/nvidia-modprobe --help` for usage information.\n",
      "\n",
      "\n",
      "/usr/bin/nvidia-modprobe: unrecognized option: \"-s\"\n",
      "\n",
      "ERROR: Invalid commandline, please run `/usr/bin/nvidia-modprobe --help` for usage information.\n",
      "\n",
      "\n"
     ]
    }
   ],
   "source": [
    "model, preprocess = clip.load(\"ViT-B/32\")\n",
    "model.to(device).eval()\n",
    "input_resolution = model.visual.input_resolution"
   ]
  },
  {
   "cell_type": "markdown",
   "metadata": {},
   "source": [
    "### Load all data classes"
   ]
  },
  {
   "cell_type": "code",
   "execution_count": 18,
   "metadata": {},
   "outputs": [],
   "source": [
    "df = {}\n",
    "for cat in categories:\n",
    "    train_path = f'{data}/{cat}/train/good/*.png'\n",
    "    test_path = f'{data}/{cat}/test/'\n",
    "    test_folders = os.listdir(data + cat + '/test')\n",
    "\n",
    "    train_data = []\n",
    "    for path in glob.iglob(os.path.abspath(train_path)):\n",
    "        img = Image.open(path)\n",
    "        train_data.append(preprocess(img))\n",
    "\n",
    "    test_data= {'paths':[],'labels':[]}\n",
    "    for folder in test_folders:\n",
    "        for path in glob.iglob(os.path.abspath(test_path + folder + '/*.png')):\n",
    "            img = Image.open(path)\n",
    "            test_data['paths'].append(preprocess(img))\n",
    "            if folder == 'good':\n",
    "                test_data['labels'].append(1)    \n",
    "            else:\n",
    "                test_data['labels'].append(-1)\n",
    "\n",
    "\n",
    "    df[cat] = {'train' : train_data , 'test' : test_data}\n",
    "   \n",
    "    "
   ]
  },
  {
   "cell_type": "markdown",
   "metadata": {},
   "source": [
    "### Encode all class data"
   ]
  },
  {
   "cell_type": "code",
   "execution_count": 19,
   "metadata": {},
   "outputs": [],
   "source": [
    "for cat in categories:\n",
    "    image_input = torch.tensor(np.stack(df[cat]['train'])).cuda()\n",
    "    image_test = torch.tensor(np.stack(df[cat]['test']['paths'])).cuda()\n",
    "\n",
    "    with torch.no_grad():\n",
    "        image_features = model.encode_image(image_input).float()\n",
    "        test_features = model.encode_image(image_test).float()\n",
    "    \n",
    "    df[cat]['train'] = image_features.cpu().numpy()\n",
    "    df[cat]['test']['paths'] = test_features.cpu().numpy()\n",
    "     "
   ]
  },
  {
   "cell_type": "markdown",
   "metadata": {},
   "source": [
    "### Train model and test accuracy"
   ]
  },
  {
   "cell_type": "code",
   "execution_count": 28,
   "metadata": {},
   "outputs": [],
   "source": [
    "results = {}\n",
    "for cat in categories:\n",
    "    clf = IsolationForest(random_state=0).fit(df[cat]['train'])\n",
    "    accclf = accuracy_score(df[cat]['test']['labels'],clf.predict(df[cat]['test']['paths']))\n",
    "\n",
    "\n",
    "    lof = LocalOutlierFactor(n_neighbors=2, novelty=True, metric='manhattan')\n",
    "    lof.fit(df[cat]['train'])\n",
    "    acclof =accuracy_score(df[cat]['test']['labels'],lof.predict(df[cat]['test']['paths']))\n",
    "\n",
    "\n",
    "    results[cat] = {'model' :['Isolation Forest','Local Outlier Factor'], 'accuracy' : [accclf,acclof]}\n",
    "\n",
    "\n",
    "    del clf,lof\n",
    "\n"
   ]
  },
  {
   "cell_type": "markdown",
   "metadata": {},
   "source": [
    "### Record "
   ]
  },
  {
   "cell_type": "code",
   "execution_count": 29,
   "metadata": {},
   "outputs": [
    {
     "data": {
      "text/html": [
       "<div>\n",
       "<style scoped>\n",
       "    .dataframe tbody tr th:only-of-type {\n",
       "        vertical-align: middle;\n",
       "    }\n",
       "\n",
       "    .dataframe tbody tr th {\n",
       "        vertical-align: top;\n",
       "    }\n",
       "\n",
       "    .dataframe thead th {\n",
       "        text-align: right;\n",
       "    }\n",
       "</style>\n",
       "<table border=\"1\" class=\"dataframe\">\n",
       "  <thead>\n",
       "    <tr style=\"text-align: right;\">\n",
       "      <th></th>\n",
       "      <th>model</th>\n",
       "      <th>accuracy</th>\n",
       "    </tr>\n",
       "  </thead>\n",
       "  <tbody>\n",
       "    <tr>\n",
       "      <th>capsule</th>\n",
       "      <td>[Isolation Forest, Local Outlier Factor]</td>\n",
       "      <td>[0.44696969696969696, 0.4318181818181818]</td>\n",
       "    </tr>\n",
       "    <tr>\n",
       "      <th>leather</th>\n",
       "      <td>[Isolation Forest, Local Outlier Factor]</td>\n",
       "      <td>[0.9354838709677419, 0.9596774193548387]</td>\n",
       "    </tr>\n",
       "    <tr>\n",
       "      <th>tile</th>\n",
       "      <td>[Isolation Forest, Local Outlier Factor]</td>\n",
       "      <td>[0.9316239316239316, 0.7863247863247863]</td>\n",
       "    </tr>\n",
       "    <tr>\n",
       "      <th>zipper</th>\n",
       "      <td>[Isolation Forest, Local Outlier Factor]</td>\n",
       "      <td>[0.6887417218543046, 0.45695364238410596]</td>\n",
       "    </tr>\n",
       "    <tr>\n",
       "      <th>toothbrush</th>\n",
       "      <td>[Isolation Forest, Local Outlier Factor]</td>\n",
       "      <td>[0.6904761904761905, 0.5476190476190477]</td>\n",
       "    </tr>\n",
       "    <tr>\n",
       "      <th>screw</th>\n",
       "      <td>[Isolation Forest, Local Outlier Factor]</td>\n",
       "      <td>[0.2875, 0.275]</td>\n",
       "    </tr>\n",
       "    <tr>\n",
       "      <th>hazelnut</th>\n",
       "      <td>[Isolation Forest, Local Outlier Factor]</td>\n",
       "      <td>[0.5909090909090909, 0.5818181818181818]</td>\n",
       "    </tr>\n",
       "    <tr>\n",
       "      <th>wood</th>\n",
       "      <td>[Isolation Forest, Local Outlier Factor]</td>\n",
       "      <td>[0.9493670886075949, 0.9240506329113924]</td>\n",
       "    </tr>\n",
       "    <tr>\n",
       "      <th>carpet</th>\n",
       "      <td>[Isolation Forest, Local Outlier Factor]</td>\n",
       "      <td>[0.8632478632478633, 0.8717948717948718]</td>\n",
       "    </tr>\n",
       "    <tr>\n",
       "      <th>metal_nut</th>\n",
       "      <td>[Isolation Forest, Local Outlier Factor]</td>\n",
       "      <td>[0.5304347826086957, 0.43478260869565216]</td>\n",
       "    </tr>\n",
       "    <tr>\n",
       "      <th>transistor</th>\n",
       "      <td>[Isolation Forest, Local Outlier Factor]</td>\n",
       "      <td>[0.73, 0.64]</td>\n",
       "    </tr>\n",
       "    <tr>\n",
       "      <th>bottle</th>\n",
       "      <td>[Isolation Forest, Local Outlier Factor]</td>\n",
       "      <td>[0.9036144578313253, 0.9036144578313253]</td>\n",
       "    </tr>\n",
       "    <tr>\n",
       "      <th>grid</th>\n",
       "      <td>[Isolation Forest, Local Outlier Factor]</td>\n",
       "      <td>[0.48717948717948717, 0.7307692307692307]</td>\n",
       "    </tr>\n",
       "    <tr>\n",
       "      <th>pill</th>\n",
       "      <td>[Isolation Forest, Local Outlier Factor]</td>\n",
       "      <td>[0.32335329341317365, 0.24550898203592814]</td>\n",
       "    </tr>\n",
       "    <tr>\n",
       "      <th>cable</th>\n",
       "      <td>[Isolation Forest, Local Outlier Factor]</td>\n",
       "      <td>[0.5066666666666667, 0.4533333333333333]</td>\n",
       "    </tr>\n",
       "  </tbody>\n",
       "</table>\n",
       "</div>"
      ],
      "text/plain": [
       "                                               model  \\\n",
       "capsule     [Isolation Forest, Local Outlier Factor]   \n",
       "leather     [Isolation Forest, Local Outlier Factor]   \n",
       "tile        [Isolation Forest, Local Outlier Factor]   \n",
       "zipper      [Isolation Forest, Local Outlier Factor]   \n",
       "toothbrush  [Isolation Forest, Local Outlier Factor]   \n",
       "screw       [Isolation Forest, Local Outlier Factor]   \n",
       "hazelnut    [Isolation Forest, Local Outlier Factor]   \n",
       "wood        [Isolation Forest, Local Outlier Factor]   \n",
       "carpet      [Isolation Forest, Local Outlier Factor]   \n",
       "metal_nut   [Isolation Forest, Local Outlier Factor]   \n",
       "transistor  [Isolation Forest, Local Outlier Factor]   \n",
       "bottle      [Isolation Forest, Local Outlier Factor]   \n",
       "grid        [Isolation Forest, Local Outlier Factor]   \n",
       "pill        [Isolation Forest, Local Outlier Factor]   \n",
       "cable       [Isolation Forest, Local Outlier Factor]   \n",
       "\n",
       "                                              accuracy  \n",
       "capsule      [0.44696969696969696, 0.4318181818181818]  \n",
       "leather       [0.9354838709677419, 0.9596774193548387]  \n",
       "tile          [0.9316239316239316, 0.7863247863247863]  \n",
       "zipper       [0.6887417218543046, 0.45695364238410596]  \n",
       "toothbrush    [0.6904761904761905, 0.5476190476190477]  \n",
       "screw                                  [0.2875, 0.275]  \n",
       "hazelnut      [0.5909090909090909, 0.5818181818181818]  \n",
       "wood          [0.9493670886075949, 0.9240506329113924]  \n",
       "carpet        [0.8632478632478633, 0.8717948717948718]  \n",
       "metal_nut    [0.5304347826086957, 0.43478260869565216]  \n",
       "transistor                                [0.73, 0.64]  \n",
       "bottle        [0.9036144578313253, 0.9036144578313253]  \n",
       "grid         [0.48717948717948717, 0.7307692307692307]  \n",
       "pill        [0.32335329341317365, 0.24550898203592814]  \n",
       "cable         [0.5066666666666667, 0.4533333333333333]  "
      ]
     },
     "execution_count": 29,
     "metadata": {},
     "output_type": "execute_result"
    }
   ],
   "source": [
    "import pandas as pd\n",
    "pd.DataFrame.from_dict(results, orient='index')"
   ]
  },
  {
   "cell_type": "code",
   "execution_count": null,
   "metadata": {},
   "outputs": [],
   "source": []
  }
 ],
 "metadata": {
  "kernelspec": {
   "display_name": "Python 3.7.13 ('hawau')",
   "language": "python",
   "name": "python3"
  },
  "language_info": {
   "codemirror_mode": {
    "name": "ipython",
    "version": 3
   },
   "file_extension": ".py",
   "mimetype": "text/x-python",
   "name": "python",
   "nbconvert_exporter": "python",
   "pygments_lexer": "ipython3",
   "version": "3.7.13"
  },
  "orig_nbformat": 4,
  "vscode": {
   "interpreter": {
    "hash": "4bcec4c846c7100c910d77d8e024f3dc40a494a4e97f10b937c362edc7df9ed0"
   }
  }
 },
 "nbformat": 4,
 "nbformat_minor": 2
}
